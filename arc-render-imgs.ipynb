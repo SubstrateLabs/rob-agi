{
 "metadata": {
  "kernelspec": {
   "language": "python",
   "display_name": "Python 3",
   "name": "python3"
  },
  "language_info": {
   "name": "python",
   "version": "3.10.13",
   "mimetype": "text/x-python",
   "codemirror_mode": {
    "name": "ipython",
    "version": 3
   },
   "pygments_lexer": "ipython3",
   "nbconvert_exporter": "python",
   "file_extension": ".py"
  },
  "kaggle": {
   "accelerator": "none",
   "dataSources": [
    {
     "sourceId": 67357,
     "databundleVersionId": 8951125,
     "sourceType": "competition"
    }
   ],
   "dockerImageVersionId": 30732,
   "isInternetEnabled": true,
   "language": "python",
   "sourceType": "notebook",
   "isGpuEnabled": false
  }
 },
 "nbformat_minor": 4,
 "nbformat": 4,
 "cells": [
  {
   "cell_type": "code",
   "source": [
    "import matplotlib.pyplot as plt\n",
    "from   matplotlib import colors\n",
    "import json"
   ],
   "metadata": {
    "execution": {
     "iopub.status.busy": "2024-07-28T16:19:54.190322Z",
     "iopub.execute_input": "2024-07-28T16:19:54.191005Z",
     "iopub.status.idle": "2024-07-28T16:19:56.531428Z",
     "shell.execute_reply.started": "2024-07-28T16:19:54.190972Z",
     "shell.execute_reply": "2024-07-28T16:19:56.530276Z"
    },
    "trusted": true,
    "ExecuteTime": {
     "end_time": "2024-08-03T20:38:55.579019Z",
     "start_time": "2024-08-03T20:38:55.575364Z"
    }
   },
   "execution_count": 24,
   "outputs": []
  },
  {
   "cell_type": "code",
   "source": [
    "base_path='./data/inputs/'\n",
    "\n",
    "def load_json(file_path):\n",
    "    with open(file_path) as f:\n",
    "        data = json.load(f)\n",
    "    return data"
   ],
   "metadata": {
    "execution": {
     "iopub.status.busy": "2024-07-28T16:19:56.533657Z",
     "iopub.execute_input": "2024-07-28T16:19:56.534203Z",
     "iopub.status.idle": "2024-07-28T16:19:56.540988Z",
     "shell.execute_reply.started": "2024-07-28T16:19:56.534164Z",
     "shell.execute_reply": "2024-07-28T16:19:56.539756Z"
    },
    "trusted": true,
    "ExecuteTime": {
     "end_time": "2024-08-03T20:38:56.087113Z",
     "start_time": "2024-08-03T20:38:56.083920Z"
    }
   },
   "execution_count": 25,
   "outputs": []
  },
  {
   "cell_type": "code",
   "source": [
    "training_challenges   = load_json(base_path +'arc-agi_training_challenges.json')\n",
    "training_solutions    = load_json(base_path +'arc-agi_training_solutions.json')\n",
    "\n",
    "evaluation_challenges = load_json(base_path +'arc-agi_evaluation_challenges.json')\n",
    "evaluation_solutions  = load_json(base_path +'arc-agi_evaluation_solutions.json')\n",
    "\n",
    "test_challenges       = load_json(base_path +'arc-agi_test_challenges.json')\n"
   ],
   "metadata": {
    "execution": {
     "iopub.status.busy": "2024-07-28T16:19:56.542381Z",
     "iopub.execute_input": "2024-07-28T16:19:56.542675Z",
     "iopub.status.idle": "2024-07-28T16:19:56.858247Z",
     "shell.execute_reply.started": "2024-07-28T16:19:56.542645Z",
     "shell.execute_reply": "2024-07-28T16:19:56.857198Z"
    },
    "trusted": true,
    "ExecuteTime": {
     "end_time": "2024-08-03T20:38:57.697516Z",
     "start_time": "2024-08-03T20:38:56.716248Z"
    }
   },
   "execution_count": 26,
   "outputs": []
  },
  {
   "cell_type": "code",
   "source": [
    "# 0:black, 1:blue, 2:red, 3:green, 4:yellow, # 5:gray, 6:magenta, 7:orange, 8:sky, 9:brown\n",
    "\n",
    "cmap = colors.ListedColormap(\n",
    "    ['#000000', '#0074D9', '#FF4136', '#2ECC40', '#FFDC00',\n",
    "     '#AAAAAA', '#F012BE', '#FF851B', '#7FDBFF', '#870C25'])\n",
    "norm = colors.Normalize(vmin=0, vmax=9)\n",
    "\n",
    "plt.figure(figsize=(3, 1), dpi=150)\n",
    "plt.imshow([list(range(10))], cmap=cmap, norm=norm)\n",
    "plt.xticks(list(range(10)))\n",
    "plt.yticks([])\n",
    "plt.show()"
   ],
   "metadata": {
    "execution": {
     "iopub.status.busy": "2024-07-28T16:19:56.860593Z",
     "iopub.execute_input": "2024-07-28T16:19:56.860916Z",
     "iopub.status.idle": "2024-07-28T16:19:57.113497Z",
     "shell.execute_reply.started": "2024-07-28T16:19:56.860887Z",
     "shell.execute_reply": "2024-07-28T16:19:57.112414Z"
    },
    "trusted": true,
    "ExecuteTime": {
     "end_time": "2024-08-03T20:38:57.757305Z",
     "start_time": "2024-08-03T20:38:57.698336Z"
    }
   },
   "execution_count": 27,
   "outputs": [
    {
     "data": {
      "text/plain": "<Figure size 450x150 with 1 Axes>",
      "image/png": "[encoded data removed]"
     },
     "metadata": {},
     "output_type": "display_data"
    }
   ]
  },
  {
   "cell_type": "code",
   "source": [
    "def plot_task(task, task_solutions, i, t):\n",
    "    \"\"\"Plots the first train and test pairs of a specified task, using same color scheme as the ARC app\"\"\"\n",
    "    num_train = len(task['train'])\n",
    "    num_test = len(task['test'])\n",
    "    w = num_train + num_test\n",
    "    fig, axs = plt.subplots(2, w, figsize=(3*w, 3*2))\n",
    "\n",
    "    # Adjust the top margin\n",
    "    plt.subplots_adjust(top=0.85)\n",
    "\n",
    "    # Adjust the y-position of the title\n",
    "    plt.suptitle(f'Challenge {t}:', fontsize=20, fontweight='bold', y=0.98)\n",
    "\n",
    "    for j in range(num_train):\n",
    "        plot_one(axs[0, j], j, 'train', 'input')\n",
    "        plot_one(axs[1, j], j, 'train', 'output')\n",
    "\n",
    "    plot_one(axs[0, num_train], 0, 'test', 'input')\n",
    "\n",
    "    # Plot test output\n",
    "    answer = task_solutions\n",
    "    input_matrix = answer\n",
    "    axs[1, num_train].imshow(input_matrix, cmap=cmap, norm=norm)\n",
    "    axs[1, num_train].grid(True, which='both', color='lightgrey', linewidth=0.5)\n",
    "    axs[1, num_train].set_yticks([x-0.5 for x in range(1 + len(input_matrix))])\n",
    "    axs[1, num_train].set_xticks([x-0.5 for x in range(1 + len(input_matrix[0]))])\n",
    "    axs[1, num_train].set_xticklabels([])\n",
    "    axs[1, num_train].set_yticklabels([])\n",
    "    axs[1, num_train].set_title('Test output')\n",
    "\n",
    "    # Remove extra subplots\n",
    "    for j in range(num_train + 1, w):\n",
    "        fig.delaxes(axs[0, j])\n",
    "        fig.delaxes(axs[1, j])\n",
    "\n",
    "    fig.patch.set_linewidth(5)\n",
    "    fig.patch.set_edgecolor('black')\n",
    "    fig.patch.set_facecolor('#dddddd')\n",
    "\n",
    "    # Adjust tight_layout parameters\n",
    "    fig.tight_layout(rect=[0, 0, 1, 0.90])\n",
    "\n",
    "    print(f'#{i}, {t}')\n",
    "    plt.savefig(f'./data/task_images/{t}.png', bbox_inches='tight')\n",
    "    plt.close(fig)  # Close the figure to free up memory\n",
    "    print()\n",
    "    print()\n",
    "\n",
    "def plot_one(ax, i, train_or_test, input_or_output):\n",
    "    input_matrix = task[train_or_test][i][input_or_output]\n",
    "    ax.imshow(input_matrix, cmap=cmap, norm=norm)\n",
    "    ax.grid(True, which='both', color='lightgrey', linewidth=0.5)\n",
    "    ax.set_xticks([x-0.5 for x in range(1 + len(input_matrix[0]))])\n",
    "    ax.set_yticks([x-0.5 for x in range(1 + len(input_matrix))])\n",
    "    ax.set_xticklabels([])\n",
    "    ax.set_yticklabels([])\n",
    "    ax.set_title(f'{train_or_test} {input_or_output}')\n"
   ],
   "metadata": {
    "execution": {
     "iopub.status.busy": "2024-07-28T16:19:57.11521Z",
     "iopub.execute_input": "2024-07-28T16:19:57.115873Z",
     "iopub.status.idle": "2024-07-28T16:19:57.137756Z",
     "shell.execute_reply.started": "2024-07-28T16:19:57.115826Z",
     "shell.execute_reply": "2024-07-28T16:19:57.136639Z"
    },
    "trusted": true,
    "ExecuteTime": {
     "end_time": "2024-08-03T20:39:00.426626Z",
     "start_time": "2024-08-03T20:39:00.421776Z"
    }
   },
   "execution_count": 28,
   "outputs": []
  },
  {
   "cell_type": "code",
   "source": [
    "for i in range(0, 50):\n",
    "    t=list(training_challenges)[i]\n",
    "    task=training_challenges[t]\n",
    "    task_solution = training_solutions[t][0]\n",
    "    plot_task(task,  task_solution, i, t)"
   ],
   "metadata": {
    "execution": {
     "iopub.status.busy": "2024-07-28T16:38:05.123525Z",
     "iopub.execute_input": "2024-07-28T16:38:05.123999Z",
     "iopub.status.idle": "2024-07-28T16:39:15.932244Z",
     "shell.execute_reply.started": "2024-07-28T16:38:05.123964Z",
     "shell.execute_reply": "2024-07-28T16:39:15.931108Z"
    },
    "trusted": true,
    "ExecuteTime": {
     "end_time": "2024-08-03T20:39:33.942253Z",
     "start_time": "2024-08-03T20:39:03.308810Z"
    }
   },
   "execution_count": 29,
   "outputs": [
    {
     "name": "stdout",
     "output_type": "stream",
     "text": [
      "#0, 007bbfb7\n",
      "\n",
      "\n",
      "#1, 00d62c1b\n",
      "\n",
      "\n",
      "#2, 017c7c7b\n",
      "\n",
      "\n",
      "#3, 025d127b\n",
      "\n",
      "\n",
      "#4, 045e512c\n",
      "\n",
      "\n",
      "#5, 0520fde7\n",
      "\n",
      "\n",
      "#6, 05269061\n",
      "\n",
      "\n",
      "#7, 05f2a901\n",
      "\n",
      "\n",
      "#8, 06df4c85\n",
      "\n",
      "\n",
      "#9, 08ed6ac7\n",
      "\n",
      "\n",
      "#10, 09629e4f\n",
      "\n",
      "\n",
      "#11, 0962bcdd\n",
      "\n",
      "\n",
      "#12, 0a938d79\n",
      "\n",
      "\n",
      "#13, 0b148d64\n",
      "\n",
      "\n",
      "#14, 0ca9ddb6\n",
      "\n",
      "\n",
      "#15, 0d3d703e\n",
      "\n",
      "\n",
      "#16, 0dfd9992\n",
      "\n",
      "\n",
      "#17, 0e206a2e\n",
      "\n",
      "\n",
      "#18, 10fcaaa3\n",
      "\n",
      "\n",
      "#19, 11852cab\n",
      "\n",
      "\n",
      "#20, 1190e5a7\n",
      "\n",
      "\n",
      "#21, 137eaa0f\n",
      "\n",
      "\n",
      "#22, 150deff5\n",
      "\n",
      "\n",
      "#23, 178fcbfb\n",
      "\n",
      "\n",
      "#24, 1a07d186\n",
      "\n",
      "\n",
      "#25, 1b2d62fb\n",
      "\n",
      "\n",
      "#26, 1b60fb0c\n",
      "\n",
      "\n",
      "#27, 1bfc4729\n",
      "\n",
      "\n",
      "#28, 1c786137\n",
      "\n",
      "\n",
      "#29, 1caeab9d\n",
      "\n",
      "\n",
      "#30, 1cf80156\n",
      "\n",
      "\n",
      "#31, 1e0a9b12\n",
      "\n",
      "\n",
      "#32, 1e32b0e9\n",
      "\n",
      "\n",
      "#33, 1f0c79e5\n",
      "\n",
      "\n",
      "#34, 1f642eb9\n",
      "\n",
      "\n",
      "#35, 1f85a75f\n",
      "\n",
      "\n",
      "#36, 1f876c06\n",
      "\n",
      "\n",
      "#37, 1fad071e\n",
      "\n",
      "\n",
      "#38, 2013d3e2\n",
      "\n",
      "\n",
      "#39, 2204b7a8\n",
      "\n",
      "\n",
      "#40, 22168020\n",
      "\n",
      "\n",
      "#41, 22233c11\n",
      "\n",
      "\n",
      "#42, 2281f1f4\n",
      "\n",
      "\n",
      "#43, 228f6490\n",
      "\n",
      "\n",
      "#44, 22eb0ac0\n",
      "\n",
      "\n",
      "#45, 234bbc79\n",
      "\n",
      "\n",
      "#46, 23581191\n",
      "\n",
      "\n",
      "#47, 239be575\n",
      "\n",
      "\n",
      "#48, 23b5c85d\n",
      "\n",
      "\n",
      "#49, 253bf280\n",
      "\n",
      "\n"
     ]
    }
   ]
  },
  {
   "cell_type": "code",
   "source": [
    "for i in range(50, 100):\n",
    "    t=list(training_challenges)[i]\n",
    "    task=training_challenges[t]\n",
    "    task_solution = training_solutions[t][0]\n",
    "    plot_task(task,  task_solution, i, t)"
   ],
   "metadata": {
    "execution": {
     "iopub.status.busy": "2024-07-28T16:41:51.733267Z",
     "iopub.execute_input": "2024-07-28T16:41:51.734535Z",
     "iopub.status.idle": "2024-07-28T16:43:05.935278Z",
     "shell.execute_reply.started": "2024-07-28T16:41:51.734495Z",
     "shell.execute_reply": "2024-07-28T16:43:05.934181Z"
    },
    "trusted": true
   },
   "execution_count": null,
   "outputs": []
  },
  {
   "cell_type": "code",
   "source": [
    "for i in range(100, 150):\n",
    "    t=list(training_challenges)[i]\n",
    "    task=training_challenges[t]\n",
    "    task_solution = training_solutions[t][0]\n",
    "    plot_task(task,  task_solution, i, t)"
   ],
   "metadata": {
    "execution": {
     "iopub.status.busy": "2024-07-28T16:43:05.937219Z",
     "iopub.execute_input": "2024-07-28T16:43:05.937565Z",
     "iopub.status.idle": "2024-07-28T16:44:16.029786Z",
     "shell.execute_reply.started": "2024-07-28T16:43:05.937537Z",
     "shell.execute_reply": "2024-07-28T16:44:16.028745Z"
    },
    "trusted": true
   },
   "execution_count": null,
   "outputs": []
  },
  {
   "cell_type": "code",
   "source": [
    "for i in range(150, 200):\n",
    "    t=list(training_challenges)[i]\n",
    "    task=training_challenges[t]\n",
    "    task_solution = training_solutions[t][0]\n",
    "    plot_task(task,  task_solution, i, t)"
   ],
   "metadata": {
    "execution": {
     "iopub.status.busy": "2024-07-28T16:44:16.031193Z",
     "iopub.execute_input": "2024-07-28T16:44:16.031613Z",
     "iopub.status.idle": "2024-07-28T16:45:29.212299Z",
     "shell.execute_reply.started": "2024-07-28T16:44:16.031575Z",
     "shell.execute_reply": "2024-07-28T16:45:29.211187Z"
    },
    "trusted": true
   },
   "execution_count": null,
   "outputs": []
  },
  {
   "cell_type": "code",
   "source": [
    "for i in range(200, 250):\n",
    "    t=list(training_challenges)[i]\n",
    "    task=training_challenges[t]\n",
    "    task_solution = training_solutions[t][0]\n",
    "    plot_task(task,  task_solution, i, t)"
   ],
   "metadata": {
    "execution": {
     "iopub.status.busy": "2024-07-28T16:45:29.214418Z",
     "iopub.execute_input": "2024-07-28T16:45:29.214762Z",
     "iopub.status.idle": "2024-07-28T16:46:37.914876Z",
     "shell.execute_reply.started": "2024-07-28T16:45:29.214733Z",
     "shell.execute_reply": "2024-07-28T16:46:37.913549Z"
    },
    "trusted": true
   },
   "execution_count": null,
   "outputs": []
  },
  {
   "cell_type": "code",
   "source": [
    "for i in range(250, 300):\n",
    "    t=list(training_challenges)[i]\n",
    "    task=training_challenges[t]\n",
    "    task_solution = training_solutions[t][0]\n",
    "    plot_task(task,  task_solution, i, t)"
   ],
   "metadata": {
    "execution": {
     "iopub.status.busy": "2024-07-28T16:46:37.916632Z",
     "iopub.execute_input": "2024-07-28T16:46:37.917094Z",
     "iopub.status.idle": "2024-07-28T16:47:45.724864Z",
     "shell.execute_reply.started": "2024-07-28T16:46:37.917039Z",
     "shell.execute_reply": "2024-07-28T16:47:45.723843Z"
    },
    "trusted": true
   },
   "execution_count": null,
   "outputs": []
  },
  {
   "cell_type": "code",
   "source": [
    "for i in range(300, 350):\n",
    "    t=list(training_challenges)[i]\n",
    "    task=training_challenges[t]\n",
    "    task_solution = training_solutions[t][0]\n",
    "    plot_task(task,  task_solution, i, t)"
   ],
   "metadata": {
    "execution": {
     "iopub.status.busy": "2024-07-28T16:47:45.726778Z",
     "iopub.execute_input": "2024-07-28T16:47:45.727228Z",
     "iopub.status.idle": "2024-07-28T16:48:52.171019Z",
     "shell.execute_reply.started": "2024-07-28T16:47:45.72719Z",
     "shell.execute_reply": "2024-07-28T16:48:52.169955Z"
    },
    "trusted": true
   },
   "execution_count": null,
   "outputs": []
  },
  {
   "cell_type": "code",
   "source": [
    "for i in range(350, 400):\n",
    "    t=list(training_challenges)[i]\n",
    "    task=training_challenges[t] \n",
    "    task_solution = training_solutions[t][0]\n",
    "    plot_task(task,  task_solution, i, t)"
   ],
   "metadata": {
    "execution": {
     "iopub.status.busy": "2024-07-28T16:48:52.172522Z",
     "iopub.execute_input": "2024-07-28T16:48:52.172953Z",
     "iopub.status.idle": "2024-07-28T16:50:02.578834Z",
     "shell.execute_reply.started": "2024-07-28T16:48:52.172915Z",
     "shell.execute_reply": "2024-07-28T16:50:02.577735Z"
    },
    "trusted": true
   },
   "execution_count": null,
   "outputs": []
  }
 ]
}
